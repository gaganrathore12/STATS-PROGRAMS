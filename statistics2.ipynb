{
 "cells": [
  {
   "cell_type": "code",
   "execution_count": 1,
   "id": "d4bf78fd-4b7b-4fa9-bbf0-1bc80d7f9262",
   "metadata": {},
   "outputs": [],
   "source": [
    "import pandas as pd\n",
    "import numpy as np"
   ]
  },
  {
   "cell_type": "code",
   "execution_count": 2,
   "id": "1a4c0acd-999c-4e9b-a629-5ed93b150cc5",
   "metadata": {},
   "outputs": [],
   "source": [
    "df= pd.read_csv('Fortune500.csv')"
   ]
  },
  {
   "cell_type": "code",
   "execution_count": 3,
   "id": "0dcf305e-3542-4434-9b7b-7c4443f3824e",
   "metadata": {},
   "outputs": [
    {
     "data": {
      "text/html": [
       "<div>\n",
       "<style scoped>\n",
       "    .dataframe tbody tr th:only-of-type {\n",
       "        vertical-align: middle;\n",
       "    }\n",
       "\n",
       "    .dataframe tbody tr th {\n",
       "        vertical-align: top;\n",
       "    }\n",
       "\n",
       "    .dataframe thead th {\n",
       "        text-align: right;\n",
       "    }\n",
       "</style>\n",
       "<table border=\"1\" class=\"dataframe\">\n",
       "  <thead>\n",
       "    <tr style=\"text-align: right;\">\n",
       "      <th></th>\n",
       "      <th>Rank</th>\n",
       "      <th>Title</th>\n",
       "      <th>Employees</th>\n",
       "      <th>Sector</th>\n",
       "      <th>Industry</th>\n",
       "      <th>Hqcity</th>\n",
       "      <th>Ceo</th>\n",
       "      <th>Ceo-title</th>\n",
       "      <th>Revenues</th>\n",
       "      <th>Revchange</th>\n",
       "      <th>Profits</th>\n",
       "      <th>Prftchange</th>\n",
       "      <th>Assets</th>\n",
       "    </tr>\n",
       "  </thead>\n",
       "  <tbody>\n",
       "    <tr>\n",
       "      <th>0</th>\n",
       "      <td>1</td>\n",
       "      <td>Walmart</td>\n",
       "      <td>2300000</td>\n",
       "      <td>Retailing</td>\n",
       "      <td>General Merchandisers</td>\n",
       "      <td>Bentonville</td>\n",
       "      <td>C. Douglas McMillon</td>\n",
       "      <td>President, Chief Executive Officer &amp; Director</td>\n",
       "      <td>485873</td>\n",
       "      <td>0.8</td>\n",
       "      <td>13643.0</td>\n",
       "      <td>-7.2</td>\n",
       "      <td>198825</td>\n",
       "    </tr>\n",
       "    <tr>\n",
       "      <th>1</th>\n",
       "      <td>2</td>\n",
       "      <td>Berkshire Hathaway</td>\n",
       "      <td>367700</td>\n",
       "      <td>Financials</td>\n",
       "      <td>Insurance: Property and Casualty (Stock)</td>\n",
       "      <td>Omaha</td>\n",
       "      <td>Warren E. Buffett</td>\n",
       "      <td>Chairman &amp; Chief Executive Officer</td>\n",
       "      <td>223604</td>\n",
       "      <td>6.1</td>\n",
       "      <td>24074.0</td>\n",
       "      <td>0</td>\n",
       "      <td>620854</td>\n",
       "    </tr>\n",
       "    <tr>\n",
       "      <th>2</th>\n",
       "      <td>3</td>\n",
       "      <td>Apple</td>\n",
       "      <td>116000</td>\n",
       "      <td>Technology</td>\n",
       "      <td>Computers, Office Equipment</td>\n",
       "      <td>Cupertino</td>\n",
       "      <td>Timothy D. Cook</td>\n",
       "      <td>Chief Executive Officer &amp; Director</td>\n",
       "      <td>215639</td>\n",
       "      <td>-7.7</td>\n",
       "      <td>45687.0</td>\n",
       "      <td>-14.4</td>\n",
       "      <td>321686</td>\n",
       "    </tr>\n",
       "    <tr>\n",
       "      <th>3</th>\n",
       "      <td>4</td>\n",
       "      <td>Exxon Mobil</td>\n",
       "      <td>72700</td>\n",
       "      <td>Energy</td>\n",
       "      <td>Petroleum Refining</td>\n",
       "      <td>Irving</td>\n",
       "      <td>Darren W. Woods</td>\n",
       "      <td>Chairman &amp; Chief Executive Officer</td>\n",
       "      <td>205004</td>\n",
       "      <td>-16.7</td>\n",
       "      <td>7840.0</td>\n",
       "      <td>-51.5</td>\n",
       "      <td>330314</td>\n",
       "    </tr>\n",
       "    <tr>\n",
       "      <th>4</th>\n",
       "      <td>5</td>\n",
       "      <td>McKesson</td>\n",
       "      <td>68000</td>\n",
       "      <td>Wholesalers</td>\n",
       "      <td>Wholesalers: Health Care</td>\n",
       "      <td>San Francisco</td>\n",
       "      <td>John H. Hammergren</td>\n",
       "      <td>Chairman, President &amp; Chief Executive Officer</td>\n",
       "      <td>192487</td>\n",
       "      <td>6.2</td>\n",
       "      <td>2258.0</td>\n",
       "      <td>53</td>\n",
       "      <td>56563</td>\n",
       "    </tr>\n",
       "  </tbody>\n",
       "</table>\n",
       "</div>"
      ],
      "text/plain": [
       "   Rank               Title  Employees       Sector  \\\n",
       "0     1             Walmart    2300000    Retailing   \n",
       "1     2  Berkshire Hathaway     367700   Financials   \n",
       "2     3               Apple     116000   Technology   \n",
       "3     4         Exxon Mobil      72700       Energy   \n",
       "4     5            McKesson      68000  Wholesalers   \n",
       "\n",
       "                                   Industry         Hqcity  \\\n",
       "0                     General Merchandisers    Bentonville   \n",
       "1  Insurance: Property and Casualty (Stock)          Omaha   \n",
       "2               Computers, Office Equipment      Cupertino   \n",
       "3                        Petroleum Refining         Irving   \n",
       "4                  Wholesalers: Health Care  San Francisco   \n",
       "\n",
       "                   Ceo                                      Ceo-title  \\\n",
       "0  C. Douglas McMillon  President, Chief Executive Officer & Director   \n",
       "1    Warren E. Buffett             Chairman & Chief Executive Officer   \n",
       "2      Timothy D. Cook             Chief Executive Officer & Director   \n",
       "3      Darren W. Woods             Chairman & Chief Executive Officer   \n",
       "4   John H. Hammergren  Chairman, President & Chief Executive Officer   \n",
       "\n",
       "   Revenues  Revchange  Profits Prftchange  Assets  \n",
       "0    485873        0.8  13643.0       -7.2  198825  \n",
       "1    223604        6.1  24074.0          0  620854  \n",
       "2    215639       -7.7  45687.0      -14.4  321686  \n",
       "3    205004      -16.7   7840.0      -51.5  330314  \n",
       "4    192487        6.2   2258.0         53   56563  "
      ]
     },
     "execution_count": 3,
     "metadata": {},
     "output_type": "execute_result"
    }
   ],
   "source": [
    "df.head()"
   ]
  },
  {
   "cell_type": "code",
   "execution_count": 4,
   "id": "acc266b3-a341-4da5-944e-f79a3bf9d2a6",
   "metadata": {},
   "outputs": [
    {
     "data": {
      "text/html": [
       "<div>\n",
       "<style scoped>\n",
       "    .dataframe tbody tr th:only-of-type {\n",
       "        vertical-align: middle;\n",
       "    }\n",
       "\n",
       "    .dataframe tbody tr th {\n",
       "        vertical-align: top;\n",
       "    }\n",
       "\n",
       "    .dataframe thead th {\n",
       "        text-align: right;\n",
       "    }\n",
       "</style>\n",
       "<table border=\"1\" class=\"dataframe\">\n",
       "  <thead>\n",
       "    <tr style=\"text-align: right;\">\n",
       "      <th></th>\n",
       "      <th>Rank</th>\n",
       "      <th>Title</th>\n",
       "      <th>Employees</th>\n",
       "      <th>Sector</th>\n",
       "      <th>Industry</th>\n",
       "      <th>Hqcity</th>\n",
       "      <th>Ceo</th>\n",
       "      <th>Ceo-title</th>\n",
       "      <th>Revenues</th>\n",
       "      <th>Revchange</th>\n",
       "      <th>Profits</th>\n",
       "      <th>Prftchange</th>\n",
       "      <th>Assets</th>\n",
       "    </tr>\n",
       "  </thead>\n",
       "  <tbody>\n",
       "    <tr>\n",
       "      <th>493</th>\n",
       "      <td>494</td>\n",
       "      <td>CH2M Hill</td>\n",
       "      <td>20000</td>\n",
       "      <td>Engineering &amp; Construction</td>\n",
       "      <td>Engineering, Construction</td>\n",
       "      <td>Englewood</td>\n",
       "      <td>Jacqueline C. Hinman</td>\n",
       "      <td>Chairman, President &amp; Chief Executive Officer</td>\n",
       "      <td>5236</td>\n",
       "      <td>-2.3</td>\n",
       "      <td>15.0</td>\n",
       "      <td>-81.3</td>\n",
       "      <td>2671</td>\n",
       "    </tr>\n",
       "    <tr>\n",
       "      <th>494</th>\n",
       "      <td>495</td>\n",
       "      <td>Big Lots</td>\n",
       "      <td>23150</td>\n",
       "      <td>Retailing</td>\n",
       "      <td>Specialty Retailers: Other</td>\n",
       "      <td>Columbus</td>\n",
       "      <td>David J. Campisi</td>\n",
       "      <td>President, Chief Executive Officer &amp; Director</td>\n",
       "      <td>5200</td>\n",
       "      <td>0.2</td>\n",
       "      <td>152.8</td>\n",
       "      <td>7</td>\n",
       "      <td>1608</td>\n",
       "    </tr>\n",
       "    <tr>\n",
       "      <th>495</th>\n",
       "      <td>496</td>\n",
       "      <td>Michaels Cos.</td>\n",
       "      <td>31000</td>\n",
       "      <td>Retailing</td>\n",
       "      <td>Specialty Retailers: Other</td>\n",
       "      <td>Irving</td>\n",
       "      <td>Carl S. Rubin</td>\n",
       "      <td>Chairman &amp; Chief Executive Officer</td>\n",
       "      <td>5197</td>\n",
       "      <td>5.8</td>\n",
       "      <td>378.2</td>\n",
       "      <td>4.2</td>\n",
       "      <td>2148</td>\n",
       "    </tr>\n",
       "    <tr>\n",
       "      <th>496</th>\n",
       "      <td>497</td>\n",
       "      <td>Toll Brothers</td>\n",
       "      <td>4200</td>\n",
       "      <td>Engineering &amp; Construction</td>\n",
       "      <td>Homebuilders</td>\n",
       "      <td>Horsham</td>\n",
       "      <td>Douglas C. Yearley Jr.</td>\n",
       "      <td>Chief Executive Officer &amp; Director</td>\n",
       "      <td>5170</td>\n",
       "      <td>23.9</td>\n",
       "      <td>382.1</td>\n",
       "      <td>5.2</td>\n",
       "      <td>9737</td>\n",
       "    </tr>\n",
       "    <tr>\n",
       "      <th>497</th>\n",
       "      <td>498</td>\n",
       "      <td>Yahoo</td>\n",
       "      <td>8500</td>\n",
       "      <td>Technology</td>\n",
       "      <td>Internet Services and Retailing</td>\n",
       "      <td>Sunnyvale</td>\n",
       "      <td>Marissa A. Mayer</td>\n",
       "      <td>President, Chief Executive Officer &amp; Director</td>\n",
       "      <td>5169</td>\n",
       "      <td>4.0</td>\n",
       "      <td>-214.3</td>\n",
       "      <td>5.2</td>\n",
       "      <td>48083</td>\n",
       "    </tr>\n",
       "    <tr>\n",
       "      <th>498</th>\n",
       "      <td>499</td>\n",
       "      <td>Vistra Energy</td>\n",
       "      <td>4431</td>\n",
       "      <td>Energy</td>\n",
       "      <td>Energy</td>\n",
       "      <td>Dallas</td>\n",
       "      <td>Curtis A. Morgan</td>\n",
       "      <td>President, Chief Executive Officer &amp; Director</td>\n",
       "      <td>5164</td>\n",
       "      <td>4.0</td>\n",
       "      <td>-214.3</td>\n",
       "      <td>5.2</td>\n",
       "      <td>15167</td>\n",
       "    </tr>\n",
       "    <tr>\n",
       "      <th>499</th>\n",
       "      <td>500</td>\n",
       "      <td>ABM Industries</td>\n",
       "      <td>110000</td>\n",
       "      <td>Business Services</td>\n",
       "      <td>Diversified Outsourcing Services</td>\n",
       "      <td>New York</td>\n",
       "      <td>Scott B. Salmirs</td>\n",
       "      <td>President, Chief Executive Officer &amp; Director</td>\n",
       "      <td>5145</td>\n",
       "      <td>-2.8</td>\n",
       "      <td>57.2</td>\n",
       "      <td>-25</td>\n",
       "      <td>2281</td>\n",
       "    </tr>\n",
       "  </tbody>\n",
       "</table>\n",
       "</div>"
      ],
      "text/plain": [
       "     Rank           Title  Employees                      Sector  \\\n",
       "493   494       CH2M Hill      20000  Engineering & Construction   \n",
       "494   495        Big Lots      23150                   Retailing   \n",
       "495   496   Michaels Cos.      31000                   Retailing   \n",
       "496   497   Toll Brothers       4200  Engineering & Construction   \n",
       "497   498           Yahoo       8500                  Technology   \n",
       "498   499   Vistra Energy       4431                      Energy   \n",
       "499   500  ABM Industries     110000           Business Services   \n",
       "\n",
       "                             Industry     Hqcity                     Ceo  \\\n",
       "493         Engineering, Construction  Englewood    Jacqueline C. Hinman   \n",
       "494        Specialty Retailers: Other   Columbus        David J. Campisi   \n",
       "495        Specialty Retailers: Other     Irving           Carl S. Rubin   \n",
       "496                      Homebuilders    Horsham  Douglas C. Yearley Jr.   \n",
       "497   Internet Services and Retailing  Sunnyvale        Marissa A. Mayer   \n",
       "498                            Energy     Dallas        Curtis A. Morgan   \n",
       "499  Diversified Outsourcing Services   New York        Scott B. Salmirs   \n",
       "\n",
       "                                         Ceo-title  Revenues  Revchange  \\\n",
       "493  Chairman, President & Chief Executive Officer      5236       -2.3   \n",
       "494  President, Chief Executive Officer & Director      5200        0.2   \n",
       "495             Chairman & Chief Executive Officer      5197        5.8   \n",
       "496             Chief Executive Officer & Director      5170       23.9   \n",
       "497  President, Chief Executive Officer & Director      5169        4.0   \n",
       "498  President, Chief Executive Officer & Director      5164        4.0   \n",
       "499  President, Chief Executive Officer & Director      5145       -2.8   \n",
       "\n",
       "     Profits Prftchange  Assets  \n",
       "493     15.0      -81.3    2671  \n",
       "494    152.8          7    1608  \n",
       "495    378.2        4.2    2148  \n",
       "496    382.1        5.2    9737  \n",
       "497   -214.3        5.2   48083  \n",
       "498   -214.3        5.2   15167  \n",
       "499     57.2        -25    2281  "
      ]
     },
     "execution_count": 4,
     "metadata": {},
     "output_type": "execute_result"
    }
   ],
   "source": [
    "df.tail(7)"
   ]
  },
  {
   "cell_type": "code",
   "execution_count": 5,
   "id": "916c2ea9-2e7e-406b-8926-cd009117a456",
   "metadata": {},
   "outputs": [
    {
     "data": {
      "text/plain": [
       "(500, 13)"
      ]
     },
     "execution_count": 5,
     "metadata": {},
     "output_type": "execute_result"
    }
   ],
   "source": [
    "df.shape"
   ]
  },
  {
   "cell_type": "code",
   "execution_count": 6,
   "id": "ac1652e0-7c91-4c9e-836b-cbae0c5b8e42",
   "metadata": {},
   "outputs": [
    {
     "name": "stdout",
     "output_type": "stream",
     "text": [
      "<class 'pandas.core.frame.DataFrame'>\n",
      "RangeIndex: 500 entries, 0 to 499\n",
      "Data columns (total 13 columns):\n",
      " #   Column      Non-Null Count  Dtype  \n",
      "---  ------      --------------  -----  \n",
      " 0   Rank        500 non-null    int64  \n",
      " 1   Title       500 non-null    object \n",
      " 2   Employees   500 non-null    int64  \n",
      " 3   Sector      500 non-null    object \n",
      " 4   Industry    500 non-null    object \n",
      " 5   Hqcity      500 non-null    object \n",
      " 6   Ceo         500 non-null    object \n",
      " 7   Ceo-title   500 non-null    object \n",
      " 8   Revenues    500 non-null    int64  \n",
      " 9   Revchange   500 non-null    float64\n",
      " 10  Profits     500 non-null    float64\n",
      " 11  Prftchange  500 non-null    object \n",
      " 12  Assets      500 non-null    int64  \n",
      "dtypes: float64(2), int64(4), object(7)\n",
      "memory usage: 50.9+ KB\n"
     ]
    }
   ],
   "source": [
    "df.info()"
   ]
  },
  {
   "cell_type": "code",
   "execution_count": 7,
   "id": "bb0657b4-7fe3-4978-b450-681f89ab3aa4",
   "metadata": {},
   "outputs": [
    {
     "data": {
      "text/html": [
       "<div>\n",
       "<style scoped>\n",
       "    .dataframe tbody tr th:only-of-type {\n",
       "        vertical-align: middle;\n",
       "    }\n",
       "\n",
       "    .dataframe tbody tr th {\n",
       "        vertical-align: top;\n",
       "    }\n",
       "\n",
       "    .dataframe thead th {\n",
       "        text-align: right;\n",
       "    }\n",
       "</style>\n",
       "<table border=\"1\" class=\"dataframe\">\n",
       "  <thead>\n",
       "    <tr style=\"text-align: right;\">\n",
       "      <th></th>\n",
       "      <th>Rank</th>\n",
       "      <th>Title</th>\n",
       "      <th>Employees</th>\n",
       "      <th>Sector</th>\n",
       "      <th>Revenues</th>\n",
       "      <th>Profits</th>\n",
       "    </tr>\n",
       "  </thead>\n",
       "  <tbody>\n",
       "    <tr>\n",
       "      <th>0</th>\n",
       "      <td>1</td>\n",
       "      <td>Walmart</td>\n",
       "      <td>2300000</td>\n",
       "      <td>Retailing</td>\n",
       "      <td>485873</td>\n",
       "      <td>13643.0</td>\n",
       "    </tr>\n",
       "    <tr>\n",
       "      <th>1</th>\n",
       "      <td>2</td>\n",
       "      <td>Berkshire Hathaway</td>\n",
       "      <td>367700</td>\n",
       "      <td>Financials</td>\n",
       "      <td>223604</td>\n",
       "      <td>24074.0</td>\n",
       "    </tr>\n",
       "    <tr>\n",
       "      <th>2</th>\n",
       "      <td>3</td>\n",
       "      <td>Apple</td>\n",
       "      <td>116000</td>\n",
       "      <td>Technology</td>\n",
       "      <td>215639</td>\n",
       "      <td>45687.0</td>\n",
       "    </tr>\n",
       "    <tr>\n",
       "      <th>3</th>\n",
       "      <td>4</td>\n",
       "      <td>Exxon Mobil</td>\n",
       "      <td>72700</td>\n",
       "      <td>Energy</td>\n",
       "      <td>205004</td>\n",
       "      <td>7840.0</td>\n",
       "    </tr>\n",
       "    <tr>\n",
       "      <th>4</th>\n",
       "      <td>5</td>\n",
       "      <td>McKesson</td>\n",
       "      <td>68000</td>\n",
       "      <td>Wholesalers</td>\n",
       "      <td>192487</td>\n",
       "      <td>2258.0</td>\n",
       "    </tr>\n",
       "  </tbody>\n",
       "</table>\n",
       "</div>"
      ],
      "text/plain": [
       "   Rank               Title  Employees       Sector  Revenues  Profits\n",
       "0     1             Walmart    2300000    Retailing    485873  13643.0\n",
       "1     2  Berkshire Hathaway     367700   Financials    223604  24074.0\n",
       "2     3               Apple     116000   Technology    215639  45687.0\n",
       "3     4         Exxon Mobil      72700       Energy    205004   7840.0\n",
       "4     5            McKesson      68000  Wholesalers    192487   2258.0"
      ]
     },
     "execution_count": 7,
     "metadata": {},
     "output_type": "execute_result"
    }
   ],
   "source": [
    "sub_df=df[['Rank','Title','Employees','Sector','Revenues','Profits']]\n",
    "sub_df.head()\n",
    "           "
   ]
  },
  {
   "cell_type": "code",
   "execution_count": 8,
   "id": "14d34b83-cc1c-49ec-975f-5aa046ed102c",
   "metadata": {},
   "outputs": [
    {
     "data": {
      "text/html": [
       "<div>\n",
       "<style scoped>\n",
       "    .dataframe tbody tr th:only-of-type {\n",
       "        vertical-align: middle;\n",
       "    }\n",
       "\n",
       "    .dataframe tbody tr th {\n",
       "        vertical-align: top;\n",
       "    }\n",
       "\n",
       "    .dataframe thead th {\n",
       "        text-align: right;\n",
       "    }\n",
       "</style>\n",
       "<table border=\"1\" class=\"dataframe\">\n",
       "  <thead>\n",
       "    <tr style=\"text-align: right;\">\n",
       "      <th></th>\n",
       "      <th>Rank</th>\n",
       "      <th>Employees</th>\n",
       "      <th>Revenues</th>\n",
       "      <th>Profits</th>\n",
       "    </tr>\n",
       "  </thead>\n",
       "  <tbody>\n",
       "    <tr>\n",
       "      <th>count</th>\n",
       "      <td>500.000000</td>\n",
       "      <td>5.000000e+02</td>\n",
       "      <td>500.000000</td>\n",
       "      <td>500.000000</td>\n",
       "    </tr>\n",
       "    <tr>\n",
       "      <th>mean</th>\n",
       "      <td>250.492000</td>\n",
       "      <td>5.635013e+04</td>\n",
       "      <td>24111.748000</td>\n",
       "      <td>1779.479800</td>\n",
       "    </tr>\n",
       "    <tr>\n",
       "      <th>std</th>\n",
       "      <td>144.477366</td>\n",
       "      <td>1.234520e+05</td>\n",
       "      <td>38337.353337</td>\n",
       "      <td>3937.558721</td>\n",
       "    </tr>\n",
       "    <tr>\n",
       "      <th>min</th>\n",
       "      <td>1.000000</td>\n",
       "      <td>8.300000e+01</td>\n",
       "      <td>5145.000000</td>\n",
       "      <td>-6177.000000</td>\n",
       "    </tr>\n",
       "    <tr>\n",
       "      <th>25%</th>\n",
       "      <td>125.750000</td>\n",
       "      <td>1.190000e+04</td>\n",
       "      <td>7245.000000</td>\n",
       "      <td>235.725000</td>\n",
       "    </tr>\n",
       "    <tr>\n",
       "      <th>50%</th>\n",
       "      <td>250.500000</td>\n",
       "      <td>2.500000e+04</td>\n",
       "      <td>11384.000000</td>\n",
       "      <td>683.600000</td>\n",
       "    </tr>\n",
       "    <tr>\n",
       "      <th>75%</th>\n",
       "      <td>375.250000</td>\n",
       "      <td>5.682525e+04</td>\n",
       "      <td>22605.250000</td>\n",
       "      <td>1770.775000</td>\n",
       "    </tr>\n",
       "    <tr>\n",
       "      <th>max</th>\n",
       "      <td>500.000000</td>\n",
       "      <td>2.300000e+06</td>\n",
       "      <td>485873.000000</td>\n",
       "      <td>45687.000000</td>\n",
       "    </tr>\n",
       "  </tbody>\n",
       "</table>\n",
       "</div>"
      ],
      "text/plain": [
       "             Rank     Employees       Revenues       Profits\n",
       "count  500.000000  5.000000e+02     500.000000    500.000000\n",
       "mean   250.492000  5.635013e+04   24111.748000   1779.479800\n",
       "std    144.477366  1.234520e+05   38337.353337   3937.558721\n",
       "min      1.000000  8.300000e+01    5145.000000  -6177.000000\n",
       "25%    125.750000  1.190000e+04    7245.000000    235.725000\n",
       "50%    250.500000  2.500000e+04   11384.000000    683.600000\n",
       "75%    375.250000  5.682525e+04   22605.250000   1770.775000\n",
       "max    500.000000  2.300000e+06  485873.000000  45687.000000"
      ]
     },
     "execution_count": 8,
     "metadata": {},
     "output_type": "execute_result"
    }
   ],
   "source": [
    "sub_df.describe()"
   ]
  },
  {
   "cell_type": "code",
   "execution_count": 9,
   "id": "49bbf24a-6092-4e24-8d66-61bfe15d86da",
   "metadata": {},
   "outputs": [
    {
     "data": {
      "text/plain": [
       "1779.4797999999998"
      ]
     },
     "execution_count": 9,
     "metadata": {},
     "output_type": "execute_result"
    }
   ],
   "source": [
    "mean = sub_df['Profits'].mean()\n",
    "mean"
   ]
  },
  {
   "cell_type": "code",
   "execution_count": 10,
   "id": "d1b77ce1-ab2f-48d5-adec-be664e807aef",
   "metadata": {},
   "outputs": [
    {
     "data": {
      "text/plain": [
       "683.6"
      ]
     },
     "execution_count": 10,
     "metadata": {},
     "output_type": "execute_result"
    }
   ],
   "source": [
    "median = sub_df['Profits'].median()\n",
    "median"
   ]
  },
  {
   "cell_type": "code",
   "execution_count": 11,
   "id": "4eaf4d90-4a0e-46e7-afb2-03e79b0f2683",
   "metadata": {},
   "outputs": [
    {
     "data": {
      "text/plain": [
       "0    -214.3\n",
       "1     324.0\n",
       "2     382.1\n",
       "3     396.0\n",
       "4     734.0\n",
       "5    1768.0\n",
       "Name: Profits, dtype: float64"
      ]
     },
     "execution_count": 11,
     "metadata": {},
     "output_type": "execute_result"
    }
   ],
   "source": [
    "mode = sub_df['Profits'].mode()\n",
    "mode"
   ]
  },
  {
   "cell_type": "code",
   "execution_count": 12,
   "id": "a81fae24-0582-475a-a301-c60c09d4b059",
   "metadata": {},
   "outputs": [
    {
     "data": {
      "text/plain": [
       "45687.0"
      ]
     },
     "execution_count": 12,
     "metadata": {},
     "output_type": "execute_result"
    }
   ],
   "source": [
    "l = sub_df['Profits'].max()\n",
    "l"
   ]
  },
  {
   "cell_type": "code",
   "execution_count": 13,
   "id": "42b01b15-d6d0-4843-be19-90e8fc551587",
   "metadata": {},
   "outputs": [
    {
     "data": {
      "text/plain": [
       "-6177.0"
      ]
     },
     "execution_count": 13,
     "metadata": {},
     "output_type": "execute_result"
    }
   ],
   "source": [
    "s = sub_df['Profits'].min()\n",
    "s"
   ]
  },
  {
   "cell_type": "code",
   "execution_count": 14,
   "id": "a2e1342a-baeb-4220-bf96-ab89a19b2092",
   "metadata": {},
   "outputs": [
    {
     "data": {
      "text/plain": [
       "51864.0"
      ]
     },
     "execution_count": 14,
     "metadata": {},
     "output_type": "execute_result"
    }
   ],
   "source": [
    "range = l-s\n",
    "range"
   ]
  },
  {
   "cell_type": "code",
   "execution_count": 15,
   "id": "e0f8c531-4456-431b-a5fb-083d888b90b5",
   "metadata": {},
   "outputs": [
    {
     "data": {
      "text/plain": [
       "51864.0"
      ]
     },
     "execution_count": 15,
     "metadata": {},
     "output_type": "execute_result"
    }
   ],
   "source": [
    "r = sub_df['Profits'].max() - sub_df['Profits'].min()\n",
    "r"
   ]
  },
  {
   "cell_type": "code",
   "execution_count": 16,
   "id": "99cfeade-48fc-49e2-9536-804836268a17",
   "metadata": {},
   "outputs": [
    {
     "data": {
      "text/plain": [
       "235.725"
      ]
     },
     "execution_count": 16,
     "metadata": {},
     "output_type": "execute_result"
    }
   ],
   "source": [
    "#quartile decile, percentile.\n",
    "q1 = sub_df['Profits'].quantile(0.25)\n",
    "q1"
   ]
  },
  {
   "cell_type": "code",
   "execution_count": 17,
   "id": "9bbd373f-c52a-4ba1-b2fe-b9a4f65b423a",
   "metadata": {},
   "outputs": [
    {
     "data": {
      "text/plain": [
       "683.6"
      ]
     },
     "execution_count": 17,
     "metadata": {},
     "output_type": "execute_result"
    }
   ],
   "source": [
    "q2 = sub_df['Profits'].quantile(0.50)\n",
    "q2\n"
   ]
  },
  {
   "cell_type": "code",
   "execution_count": 18,
   "id": "1ba7615d-1f65-4d13-b240-ebf58f856b9f",
   "metadata": {},
   "outputs": [
    {
     "data": {
      "text/plain": [
       "1770.775"
      ]
     },
     "execution_count": 18,
     "metadata": {},
     "output_type": "execute_result"
    }
   ],
   "source": [
    "q3 = sub_df['Profits'].quantile(0.75)\n",
    "q3"
   ]
  },
  {
   "cell_type": "code",
   "execution_count": 19,
   "id": "f17fbee7-974a-46e7-bb03-1a96bb7bd54e",
   "metadata": {},
   "outputs": [
    {
     "data": {
      "text/plain": [
       "3937.558720894575"
      ]
     },
     "execution_count": 19,
     "metadata": {},
     "output_type": "execute_result"
    }
   ],
   "source": [
    "sd = sub_df['Profits'].std(0)\n",
    "sd"
   ]
  },
  {
   "cell_type": "code",
   "execution_count": 20,
   "id": "64b77e0a-e844-4f67-b4fb-cd4a43d5cf47",
   "metadata": {},
   "outputs": [
    {
     "data": {
      "text/plain": [
       "1535.0500000000002"
      ]
     },
     "execution_count": 20,
     "metadata": {},
     "output_type": "execute_result"
    }
   ],
   "source": [
    "iqr = q3-q1\n",
    "iqr"
   ]
  },
  {
   "cell_type": "code",
   "execution_count": 21,
   "id": "9da1a482-5bf2-4a9b-a232-49b0df928cfe",
   "metadata": {},
   "outputs": [
    {
     "data": {
      "text/plain": [
       "1535.0500000000002"
      ]
     },
     "execution_count": 21,
     "metadata": {},
     "output_type": "execute_result"
    }
   ],
   "source": [
    "iqr2 =sub_df['Profits'].quantile(0.75) - sub_df['Profits'].quantile(0.25)\n",
    "iqr2"
   ]
  },
  {
   "cell_type": "code",
   "execution_count": 22,
   "id": "100f00a2-a87f-4982-91ca-072a3d51d251",
   "metadata": {},
   "outputs": [
    {
     "data": {
      "text/plain": [
       "221.2758313353473"
      ]
     },
     "execution_count": 22,
     "metadata": {},
     "output_type": "execute_result"
    }
   ],
   "source": [
    "cv= sd/mean*100\n",
    "cv"
   ]
  },
  {
   "cell_type": "code",
   "execution_count": 23,
   "id": "1467a15e-a63c-4e88-8935-a34f5d3009f2",
   "metadata": {},
   "outputs": [
    {
     "data": {
      "text/plain": [
       "4.910176826618978"
      ]
     },
     "execution_count": 23,
     "metadata": {},
     "output_type": "execute_result"
    }
   ],
   "source": [
    "skew = sub_df['Profits'].skew()\n",
    "skew"
   ]
  },
  {
   "cell_type": "code",
   "execution_count": 24,
   "id": "061fb641-8a8c-4d2f-903c-05dc4311dc69",
   "metadata": {},
   "outputs": [
    {
     "data": {
      "text/html": [
       "<div>\n",
       "<style scoped>\n",
       "    .dataframe tbody tr th:only-of-type {\n",
       "        vertical-align: middle;\n",
       "    }\n",
       "\n",
       "    .dataframe tbody tr th {\n",
       "        vertical-align: top;\n",
       "    }\n",
       "\n",
       "    .dataframe thead th {\n",
       "        text-align: right;\n",
       "    }\n",
       "</style>\n",
       "<table border=\"1\" class=\"dataframe\">\n",
       "  <thead>\n",
       "    <tr style=\"text-align: right;\">\n",
       "      <th></th>\n",
       "      <th>Rank</th>\n",
       "      <th>Title</th>\n",
       "      <th>Employees</th>\n",
       "      <th>Sector</th>\n",
       "      <th>Revenues</th>\n",
       "      <th>Profits</th>\n",
       "    </tr>\n",
       "  </thead>\n",
       "  <tbody>\n",
       "    <tr>\n",
       "      <th>26</th>\n",
       "      <td>27</td>\n",
       "      <td>Alphabet</td>\n",
       "      <td>72053</td>\n",
       "      <td>Technology</td>\n",
       "      <td>90272</td>\n",
       "      <td>19478.0</td>\n",
       "    </tr>\n",
       "    <tr>\n",
       "      <th>310</th>\n",
       "      <td>311</td>\n",
       "      <td>Mohawk Industries</td>\n",
       "      <td>37800</td>\n",
       "      <td>Household Products</td>\n",
       "      <td>8959</td>\n",
       "      <td>930.4</td>\n",
       "    </tr>\n",
       "    <tr>\n",
       "      <th>292</th>\n",
       "      <td>293</td>\n",
       "      <td>Fidelity National Financial</td>\n",
       "      <td>55219</td>\n",
       "      <td>Financials</td>\n",
       "      <td>9554</td>\n",
       "      <td>650.0</td>\n",
       "    </tr>\n",
       "  </tbody>\n",
       "</table>\n",
       "</div>"
      ],
      "text/plain": [
       "     Rank                        Title  Employees              Sector  \\\n",
       "26     27                     Alphabet      72053          Technology   \n",
       "310   311            Mohawk Industries      37800  Household Products   \n",
       "292   293  Fidelity National Financial      55219          Financials   \n",
       "\n",
       "     Revenues  Profits  \n",
       "26      90272  19478.0  \n",
       "310      8959    930.4  \n",
       "292      9554    650.0  "
      ]
     },
     "execution_count": 24,
     "metadata": {},
     "output_type": "execute_result"
    }
   ],
   "source": [
    "sub_df.sample(3)"
   ]
  },
  {
   "cell_type": "code",
   "execution_count": 48,
   "id": "de262e74-006d-4dc6-b717-dd345d1949e7",
   "metadata": {},
   "outputs": [
    {
     "data": {
      "text/html": [
       "<div>\n",
       "<style scoped>\n",
       "    .dataframe tbody tr th:only-of-type {\n",
       "        vertical-align: middle;\n",
       "    }\n",
       "\n",
       "    .dataframe tbody tr th {\n",
       "        vertical-align: top;\n",
       "    }\n",
       "\n",
       "    .dataframe thead th {\n",
       "        text-align: right;\n",
       "    }\n",
       "</style>\n",
       "<table border=\"1\" class=\"dataframe\">\n",
       "  <thead>\n",
       "    <tr style=\"text-align: right;\">\n",
       "      <th></th>\n",
       "      <th>Rank</th>\n",
       "      <th>Title</th>\n",
       "      <th>Employees</th>\n",
       "      <th>Sector</th>\n",
       "      <th>Revenues</th>\n",
       "      <th>Profits</th>\n",
       "    </tr>\n",
       "  </thead>\n",
       "  <tbody>\n",
       "    <tr>\n",
       "      <th>484</th>\n",
       "      <td>485</td>\n",
       "      <td>Windstream Holdings</td>\n",
       "      <td>11870</td>\n",
       "      <td>Telecommunications</td>\n",
       "      <td>5387</td>\n",
       "      <td>-383.5</td>\n",
       "    </tr>\n",
       "    <tr>\n",
       "      <th>59</th>\n",
       "      <td>60</td>\n",
       "      <td>Cisco Systems</td>\n",
       "      <td>73700</td>\n",
       "      <td>Technology</td>\n",
       "      <td>49247</td>\n",
       "      <td>10739.0</td>\n",
       "    </tr>\n",
       "    <tr>\n",
       "      <th>393</th>\n",
       "      <td>394</td>\n",
       "      <td>Ryder System</td>\n",
       "      <td>34500</td>\n",
       "      <td>Transportation</td>\n",
       "      <td>6787</td>\n",
       "      <td>262.5</td>\n",
       "    </tr>\n",
       "    <tr>\n",
       "      <th>316</th>\n",
       "      <td>317</td>\n",
       "      <td>Expedia</td>\n",
       "      <td>20075</td>\n",
       "      <td>Technology</td>\n",
       "      <td>8774</td>\n",
       "      <td>281.8</td>\n",
       "    </tr>\n",
       "    <tr>\n",
       "      <th>313</th>\n",
       "      <td>314</td>\n",
       "      <td>Netflix</td>\n",
       "      <td>3850</td>\n",
       "      <td>Technology</td>\n",
       "      <td>8831</td>\n",
       "      <td>186.7</td>\n",
       "    </tr>\n",
       "  </tbody>\n",
       "</table>\n",
       "</div>"
      ],
      "text/plain": [
       "     Rank                Title  Employees              Sector  Revenues  \\\n",
       "484   485  Windstream Holdings      11870  Telecommunications      5387   \n",
       "59     60        Cisco Systems      73700          Technology     49247   \n",
       "393   394         Ryder System      34500      Transportation      6787   \n",
       "316   317              Expedia      20075          Technology      8774   \n",
       "313   314              Netflix       3850          Technology      8831   \n",
       "\n",
       "     Profits  \n",
       "484   -383.5  \n",
       "59   10739.0  \n",
       "393    262.5  \n",
       "316    281.8  \n",
       "313    186.7  "
      ]
     },
     "execution_count": 48,
     "metadata": {},
     "output_type": "execute_result"
    }
   ],
   "source": [
    "sub_df.sample(frac=0.01)"
   ]
  },
  {
   "cell_type": "code",
   "execution_count": 26,
   "id": "4c9317a2-6972-4ac7-8aa9-a31872abab9f",
   "metadata": {},
   "outputs": [
    {
     "data": {
      "text/plain": [
       "1788.9331428571427"
      ]
     },
     "execution_count": 26,
     "metadata": {},
     "output_type": "execute_result"
    }
   ],
   "source": [
    "sub_df.sample(frac= 0.7)['Profits'].mean()"
   ]
  },
  {
   "cell_type": "code",
   "execution_count": 53,
   "id": "24eb1987-3206-452e-b4f2-5be172f6b8de",
   "metadata": {},
   "outputs": [
    {
     "data": {
      "text/plain": [
       "1138.8200000000002"
      ]
     },
     "execution_count": 53,
     "metadata": {},
     "output_type": "execute_result"
    }
   ],
   "source": [
    "df3= sub_df.sample(frac= 0.01,random_state=1)\n",
    "df3['Profits'].mean()"
   ]
  },
  {
   "cell_type": "code",
   "execution_count": 28,
   "id": "d9815380-b30b-471a-9ba2-e8fc51515ec4",
   "metadata": {},
   "outputs": [
    {
     "data": {
      "text/plain": [
       "1584.3986666666665"
      ]
     },
     "execution_count": 28,
     "metadata": {},
     "output_type": "execute_result"
    }
   ],
   "source": [
    "df3= sub_df.sample(frac= 0.6,random_state=1)\n",
    "df3['Profits'].mean()"
   ]
  },
  {
   "cell_type": "code",
   "execution_count": 29,
   "id": "39a44b39-bfb4-45f0-abbc-94e9305a232f",
   "metadata": {},
   "outputs": [
    {
     "data": {
      "text/plain": [
       "1779.5076666666669"
      ]
     },
     "execution_count": 29,
     "metadata": {},
     "output_type": "execute_result"
    }
   ],
   "source": [
    "df3= sub_df.sample(frac= 0.6,random_state=2)\n",
    "df3['Profits'].mean()"
   ]
  },
  {
   "cell_type": "code",
   "execution_count": 30,
   "id": "b22c8fab-a45f-4add-aefb-70460947cdff",
   "metadata": {},
   "outputs": [
    {
     "data": {
      "text/plain": [
       "1592.522"
      ]
     },
     "execution_count": 30,
     "metadata": {},
     "output_type": "execute_result"
    }
   ],
   "source": [
    "df3= sub_df.sample(frac= 0.6,random_state=3)\n",
    "df3['Profits'].mean()"
   ]
  },
  {
   "cell_type": "code",
   "execution_count": 31,
   "id": "ac557964-43ce-4222-a3b3-2e57eda77d1d",
   "metadata": {},
   "outputs": [
    {
     "data": {
      "text/plain": [
       "1709.9023333333334"
      ]
     },
     "execution_count": 31,
     "metadata": {},
     "output_type": "execute_result"
    }
   ],
   "source": [
    "df3= sub_df.sample(frac= 0.6,random_state=4)\n",
    "df3['Profits'].mean()"
   ]
  },
  {
   "cell_type": "code",
   "execution_count": 32,
   "id": "00bdc2ae-9750-4171-9057-97e35d5259b4",
   "metadata": {},
   "outputs": [
    {
     "data": {
      "text/plain": [
       "1787.744"
      ]
     },
     "execution_count": 32,
     "metadata": {},
     "output_type": "execute_result"
    }
   ],
   "source": [
    "df3= sub_df.sample(frac= 0.6,random_state=5)\n",
    "df3['Profits'].mean()"
   ]
  },
  {
   "cell_type": "code",
   "execution_count": 33,
   "id": "d6622ee8-909d-4a84-9e72-f56e95b1bbdf",
   "metadata": {},
   "outputs": [
    {
     "data": {
      "text/plain": [
       "-15795.375"
      ]
     },
     "execution_count": 33,
     "metadata": {},
     "output_type": "execute_result"
    }
   ],
   "source": [
    "q1 = sub_df['Revenues'].quantile(0.25)\n",
    "q3 = sub_df['Revenues'].quantile(0.75)\n",
    "iqr = q3 - q1\n",
    "\n",
    "lower_bound = q1 - 1.5 * iqr\n",
    "upper_bound = q3 + 1.5 * iqr\n",
    "lower_bound"
   ]
  },
  {
   "cell_type": "code",
   "execution_count": 34,
   "id": "19023361-e791-4d90-8ea8-6390cad29827",
   "metadata": {},
   "outputs": [
    {
     "data": {
      "text/plain": [
       "45645.625"
      ]
     },
     "execution_count": 34,
     "metadata": {},
     "output_type": "execute_result"
    }
   ],
   "source": [
    "q1 = sub_df['Revenues'].quantile(0.25)\n",
    "q3 = sub_df['Revenues'].quantile(0.75)\n",
    "iqr = q3 - q1\n",
    "\n",
    "lower_bound = q1 - 1.5 * iqr\n",
    "upper_bound = q3 + 1.5 * iqr\n",
    "upper_bound"
   ]
  },
  {
   "cell_type": "code",
   "execution_count": 35,
   "id": "be7571fe-4089-4fb7-8d09-e14b5d817b0e",
   "metadata": {},
   "outputs": [
    {
     "name": "stdout",
     "output_type": "stream",
     "text": [
      "outlier rows:\n",
      "    Rank                       Title  Employees          Sector  Revenues  \\\n",
      "0      1                     Walmart    2300000       Retailing    485873   \n",
      "1      2          Berkshire Hathaway     367700      Financials    223604   \n",
      "2      3                       Apple     116000      Technology    215639   \n",
      "3      4                 Exxon Mobil      72700          Energy    205004   \n",
      "4      5                    McKesson      68000     Wholesalers    192487   \n",
      "..   ...                         ...        ...             ...       ...   \n",
      "57    58                       FedEx     335767  Transportation     50365   \n",
      "58    59  Hewlett Packard Enterprise     195000      Technology     50123   \n",
      "59    60               Cisco Systems      73700      Technology     49247   \n",
      "60    61                          HP      49000      Technology     48238   \n",
      "61    62                Dow Chemical      56000       Chemicals     48158   \n",
      "\n",
      "    Profits  \n",
      "0   13643.0  \n",
      "1   24074.0  \n",
      "2   45687.0  \n",
      "3    7840.0  \n",
      "4    2258.0  \n",
      "..      ...  \n",
      "57   1820.0  \n",
      "58   3161.0  \n",
      "59  10739.0  \n",
      "60   2496.0  \n",
      "61   4318.0  \n",
      "\n",
      "[62 rows x 6 columns]\n"
     ]
    }
   ],
   "source": [
    "outliers = sub_df[(sub_df['Revenues']<lower_bound )| (sub_df['Revenues']>upper_bound)]\n",
    "print(\"outlier rows:\")\n",
    "print(outliers)\n"
   ]
  },
  {
   "cell_type": "code",
   "execution_count": 36,
   "id": "345b2828-553d-486b-b65a-8d05505c852d",
   "metadata": {},
   "outputs": [
    {
     "data": {
      "text/plain": [
       "-2066.8500000000004"
      ]
     },
     "execution_count": 36,
     "metadata": {},
     "output_type": "execute_result"
    }
   ],
   "source": [
    "q1 = sub_df['Profits'].quantile(0.25)\n",
    "q3 = sub_df['Profits'].quantile(0.75)\n",
    "iqr = q3 - q1\n",
    "\n",
    "lower_bound = q1 - 1.5 * iqr\n",
    "upper_bound = q3 + 1.5 * iqr\n",
    "lower_bound"
   ]
  },
  {
   "cell_type": "code",
   "execution_count": 37,
   "id": "d528f824-46d2-444a-8b16-92aad3ea64af",
   "metadata": {},
   "outputs": [
    {
     "data": {
      "text/plain": [
       "4073.3500000000004"
      ]
     },
     "execution_count": 37,
     "metadata": {},
     "output_type": "execute_result"
    }
   ],
   "source": [
    "q1 = sub_df['Profits'].quantile(0.25)\n",
    "q3 = sub_df['Profits'].quantile(0.75)\n",
    "iqr = q3 - q1\n",
    "\n",
    "lower_bound = q1 - 1.5 * iqr\n",
    "upper_bound = q3 + 1.5 * iqr\n",
    "upper_bound"
   ]
  },
  {
   "cell_type": "code",
   "execution_count": 38,
   "id": "830bcfb5-a002-46ac-9805-7d685b08a3db",
   "metadata": {},
   "outputs": [
    {
     "name": "stdout",
     "output_type": "stream",
     "text": [
      "outliers rows:\n",
      "     Rank                   Title  Employees       Sector  Revenues  Profits\n",
      "0       1                 Walmart    2300000    Retailing    485873  13643.0\n",
      "1       2      Berkshire Hathaway     367700   Financials    223604  24074.0\n",
      "2       3                   Apple     116000   Technology    215639  45687.0\n",
      "3       4             Exxon Mobil      72700       Energy    205004   7840.0\n",
      "5       6      UnitedHealth Group     230000  Health Care    184840   7017.0\n",
      "..    ...                     ...        ...          ...       ...      ...\n",
      "284   285            Baker Hughes      33000       Energy      9841  -2738.0\n",
      "309   310                    eBay      12600   Technology      8979   7266.0\n",
      "342   343       Chesapeake Energy       3300       Energy      7872  -4401.0\n",
      "343   344      Anadarko Petroleum       4500       Energy      7869  -3071.0\n",
      "374   375  National Oilwell Varco      36384       Energy      7251  -2412.0\n",
      "\n",
      "[68 rows x 6 columns]\n"
     ]
    }
   ],
   "source": [
    "outliers = sub_df[(sub_df['Profits']<lower_bound ) | (sub_df['Profits']>upper_bound)]\n",
    "print(\"outliers rows:\")\n",
    "print(outliers)"
   ]
  },
  {
   "cell_type": "code",
   "execution_count": 39,
   "id": "ffcb8917-9c73-473a-868e-78573c9c3724",
   "metadata": {},
   "outputs": [
    {
     "data": {
      "text/plain": [
       "-51097.75"
      ]
     },
     "execution_count": 39,
     "metadata": {},
     "output_type": "execute_result"
    }
   ],
   "source": [
    "q1 = df['Assets'].quantile(0.25)\n",
    "q3 = df['Assets'].quantile(0.75)\n",
    "iqr = q3 - q1\n",
    "\n",
    "lower_bound = q1 - 1.5 * iqr\n",
    "upper_bound = q3 + 1.5 * iqr\n",
    "lower_bound"
   ]
  },
  {
   "cell_type": "code",
   "execution_count": 40,
   "id": "c73ada96-d871-4c6d-b0a5-e7ecfb81fe1d",
   "metadata": {},
   "outputs": [
    {
     "data": {
      "text/plain": [
       "107660.25"
      ]
     },
     "execution_count": 40,
     "metadata": {},
     "output_type": "execute_result"
    }
   ],
   "source": [
    "q1 = df['Assets'].quantile(0.25)\n",
    "q3 = df['Assets'].quantile(0.75)\n",
    "iqr = q3 - q1\n",
    "\n",
    "lower_bound = q1 - 1.5 * iqr\n",
    "upper_bound = q3 + 1.5 * iqr\n",
    "upper_bound"
   ]
  },
  {
   "cell_type": "code",
   "execution_count": 41,
   "id": "53dddc00-baeb-4a24-91b3-f1f75b87a52a",
   "metadata": {},
   "outputs": [
    {
     "name": "stdout",
     "output_type": "stream",
     "text": [
      "outlier row:\n",
      "     Rank                     Title  Employees       Sector  \\\n",
      "0       1                   Walmart    2300000    Retailing   \n",
      "1       2        Berkshire Hathaway     367700   Financials   \n",
      "2       3                     Apple     116000   Technology   \n",
      "3       4               Exxon Mobil      72700       Energy   \n",
      "5       6        UnitedHealth Group     230000  Health Care   \n",
      "..    ...                       ...        ...          ...   \n",
      "388   389       Fifth Third Bancorp      17844   Financials   \n",
      "435   436         Regions Financial      22166   Financials   \n",
      "450   451  Citizens Financial Group      17600   Financials   \n",
      "454   455            M&T Bank Corp.      16487   Financials   \n",
      "478   479                   KeyCorp      15700   Financials   \n",
      "\n",
      "                                     Industry       Hqcity  \\\n",
      "0                       General Merchandisers  Bentonville   \n",
      "1    Insurance: Property and Casualty (Stock)        Omaha   \n",
      "2                 Computers, Office Equipment    Cupertino   \n",
      "3                          Petroleum Refining       Irving   \n",
      "5     Health Care: Insurance and Managed Care   Minnetonka   \n",
      "..                                        ...          ...   \n",
      "388                          Commercial Banks   Cincinnati   \n",
      "435                          Commercial Banks   Birmingham   \n",
      "450                          Commercial Banks   Providence   \n",
      "454                          Commercial Banks      Buffalo   \n",
      "478                          Commercial Banks    Cleveland   \n",
      "\n",
      "                       Ceo                                      Ceo-title  \\\n",
      "0      C. Douglas McMillon  President, Chief Executive Officer & Director   \n",
      "1        Warren E. Buffett             Chairman & Chief Executive Officer   \n",
      "2          Timothy D. Cook             Chief Executive Officer & Director   \n",
      "3          Darren W. Woods             Chairman & Chief Executive Officer   \n",
      "5       Stephen J. Hemsley             Chief Executive Officer & Director   \n",
      "..                     ...                                            ...   \n",
      "388     Greg D. Carmichael  President, Chief Executive Officer & Director   \n",
      "435  O.B. Grayson Hall Jr.  Chairman, President & Chief Executive Officer   \n",
      "450      Bruce W. Van Saun             Chairman & Chief Executive Officer   \n",
      "454      Robert G. Wilmers             Chairman & Chief Executive Officer   \n",
      "478         Beth E. Mooney  Chairman, President & Chief Executive Officer   \n",
      "\n",
      "     Revenues  Revchange  Profits Prftchange  Assets  \n",
      "0      485873        0.8  13643.0       -7.2  198825  \n",
      "1      223604        6.1  24074.0          0  620854  \n",
      "2      215639       -7.7  45687.0      -14.4  321686  \n",
      "3      205004      -16.7   7840.0      -51.5  330314  \n",
      "5      184840       17.7   7017.0       20.7  122810  \n",
      "..        ...        ...      ...        ...     ...  \n",
      "388      6889       -2.0   1564.0       -8.6  142177  \n",
      "435      5967        5.2   1163.0        9.5  125968  \n",
      "450      5763        9.2   1045.0       24.4  149520  \n",
      "454      5722       14.5   1315.1       21.8  123449  \n",
      "478      5422       19.4    791.0      -13.6  136453  \n",
      "\n",
      "[70 rows x 13 columns]\n"
     ]
    }
   ],
   "source": [
    "outliers = df[(df['Assets'] < lower_bound ) | (df['Assets'] > upper_bound )]\n",
    "print('outlier row:')\n",
    "print(outliers)"
   ]
  },
  {
   "cell_type": "code",
   "execution_count": null,
   "id": "3db9f103-4b12-4fe5-80d1-702ebeab072b",
   "metadata": {},
   "outputs": [],
   "source": []
  },
  {
   "cell_type": "code",
   "execution_count": null,
   "id": "19f8a65d-5df4-4eca-b30e-8a5c0e07bdf1",
   "metadata": {},
   "outputs": [],
   "source": []
  }
 ],
 "metadata": {
  "kernelspec": {
   "display_name": "Python 3 (ipykernel)",
   "language": "python",
   "name": "python3"
  },
  "language_info": {
   "codemirror_mode": {
    "name": "ipython",
    "version": 3
   },
   "file_extension": ".py",
   "mimetype": "text/x-python",
   "name": "python",
   "nbconvert_exporter": "python",
   "pygments_lexer": "ipython3",
   "version": "3.12.4"
  }
 },
 "nbformat": 4,
 "nbformat_minor": 5
}
